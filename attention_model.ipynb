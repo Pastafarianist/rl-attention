{
 "cells": [
  {
   "cell_type": "code",
   "execution_count": null,
   "metadata": {
    "colab": {},
    "colab_type": "code",
    "id": "ijvy4UE2gcma"
   },
   "outputs": [],
   "source": [
    "# Setup Docker (including Colab) environment\n",
    "\n",
    "import sys\n",
    "from pathlib import Path\n",
    "\n",
    "if Path('/.dockerenv').exists():\n",
    "    !apt install cmake libopenmpi-dev zlib1g-dev\n",
    "    !pip install git+https://github.com/RerRayne/stable-baselines\n",
    "\n",
    "    !git clone https://github.com/Pastafarianist/rl-attention.git\n",
    "    \n",
    "    sys.path.append('rl-attention')"
   ]
  },
  {
   "cell_type": "code",
   "execution_count": null,
   "metadata": {
    "colab": {},
    "colab_type": "code",
    "id": "odTVED314Npz"
   },
   "outputs": [],
   "source": [
    "import json\n",
    "import logging\n",
    "import os\n",
    "import random\n",
    "import time\n",
    "from pprint import pprint\n",
    "\n",
    "import gym\n",
    "import matplotlib.pyplot as plt\n",
    "import numpy as np\n",
    "import tensorflow as tf\n",
    "\n",
    "from stable_baselines import A2C\n",
    "from stable_baselines.common import set_global_seeds\n",
    "from stable_baselines.common.cmd_util import make_atari_env\n",
    "from stable_baselines.common.policies import CnnPolicy\n",
    "from stable_baselines.common.vec_env import VecFrameStack, VecNormalize\n",
    "from stable_baselines.results_plotter import load_results, ts2xy\n",
    "\n",
    "from models import attention_cnn\n",
    "\n",
    "\n",
    "log_dir = Path(\"/tmp/gym/\")\n",
    "log_dir.mkdir(exist_ok=True)"
   ]
  },
  {
   "cell_type": "code",
   "execution_count": null,
   "metadata": {
    "colab": {},
    "colab_type": "code",
    "id": "EL2u_mQR4Y9P"
   },
   "outputs": [],
   "source": [
    "class Callback(object):\n",
    "    def __init__(self):\n",
    "        self.best_mean_reward = -np.inf\n",
    "        self.n_steps = 0\n",
    "    \n",
    "    def __call__(self, _locals, _globals):\n",
    "        \"\"\"\n",
    "        Callback called at each step (for DQN an others) or after n steps (see ACER or PPO2)\n",
    "        :param _locals: (dict)\n",
    "        :param _globals: (dict)\n",
    "        \"\"\"\n",
    "        if self.n_steps % 100 == 1:\n",
    "            # Display frames\n",
    "            plt.grid(None)\n",
    "            plt.imshow(_locals[\"self\"].env.render(mode='rgb_array'))\n",
    "            plt.show()\n",
    "            #pprint(_locals['self'].graph.get_collection(\"trainable_variables\"))\n",
    "\n",
    "        self.n_steps += 1\n",
    "        return True"
   ]
  },
  {
   "cell_type": "code",
   "execution_count": null,
   "metadata": {
    "colab": {
     "base_uri": "https://localhost:8080/",
     "height": 6932
    },
    "colab_type": "code",
    "id": "jz0MawGDh28V",
    "outputId": "160347ac-d093-4227-be23-03d414a413cc",
    "scrolled": false
   },
   "outputs": [],
   "source": [
    "env = make_atari_env('PongNoFrameskip-v4', num_env=16, seed=0)\n",
    "env = VecFrameStack(env, n_stack=4) # stack 4 frames\n",
    "\n",
    "model = A2C(\n",
    "    CnnPolicy,\n",
    "    env,\n",
    "    lr_schedule='constant',\n",
    "    verbose=1,\n",
    "    policy_kwargs={'cnn_extractor': attention_cnn}\n",
    ")\n",
    "callback = Callback()\n",
    "\n",
    "model.learn(total_timesteps=int(1e7), callback=callback)"
   ]
  },
  {
   "cell_type": "code",
   "execution_count": null,
   "metadata": {
    "colab": {},
    "colab_type": "code",
    "id": "8-uRdjOJK9pJ"
   },
   "outputs": [],
   "source": [
    "        "
   ]
  }
 ],
 "metadata": {
  "accelerator": "GPU",
  "colab": {
   "collapsed_sections": [],
   "name": "attention_model.ipynb",
   "provenance": [],
   "version": "0.3.2"
  },
  "kernelspec": {
   "display_name": "Python 3",
   "language": "python",
   "name": "python3"
  },
  "language_info": {
   "codemirror_mode": {
    "name": "ipython",
    "version": 3
   },
   "file_extension": ".py",
   "mimetype": "text/x-python",
   "name": "python",
   "nbconvert_exporter": "python",
   "pygments_lexer": "ipython3",
   "version": "3.7.3"
  }
 },
 "nbformat": 4,
 "nbformat_minor": 1
}
